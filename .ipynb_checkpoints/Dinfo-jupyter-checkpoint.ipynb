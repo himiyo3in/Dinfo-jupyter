{
 "cells": [
  {
   "cell_type": "markdown",
   "metadata": {},
   "source": [
    "# Dinfo"
   ]
  },
  {
   "cell_type": "code",
   "execution_count": 7,
   "metadata": {},
   "outputs": [
    {
     "name": "stdout",
     "output_type": "stream",
     "text": [
      "lat:35.630430, long:139.882106\n"
     ]
    }
   ],
   "source": [
    "from selenium import webdriver\n",
    "import os\n",
    "\n",
    "\n",
    "driver = webdriver.Chrome()\n",
    "driver.get(\"https://www.tokyodisneyresort.jp/tds/realtime.html?nextUrl=tdsattraction\")\n",
    "\n",
    "driver.execute_script(\"window.navigator.geolocation.getCurrentPosition=function(success){\"\n",
    "                    + \"var position = {\\\"coords\\\" : {\\\"latitude\\\": \\\"35.630430\\\",\\\"longitude\\\": \\\"139.882106\\\"}};\"\n",
    "                    + \"success(position);}\")\n",
    "\n",
    "print(driver.execute_script(\"var positionStr=\\\"\\\";\"+\n",
    "                                \"window.navigator.geolocation.getCurrentPosition(function(pos){positionStr=\\\"lat:\\\"+pos.coords.latitude+\\\", long:\\\"+pos.coords.longitude});\"+\n",
    "                                \"return positionStr;\"))\n",
    "\n",
    "\n",
    "driver.find_element_by_id('gpsButton').click()\n",
    "\n",
    "# driver.find_element_by_class_name('waitingBox')\n",
    "\n",
    "\n",
    "\n",
    "# driver.close()\n",
    "# driver.quit()\n"
   ]
  },
  {
   "cell_type": "code",
   "execution_count": null,
   "metadata": {},
   "outputs": [],
   "source": []
  }
 ],
 "metadata": {
  "kernelspec": {
   "display_name": "Python 3",
   "language": "python",
   "name": "python3"
  },
  "language_info": {
   "codemirror_mode": {
    "name": "ipython",
    "version": 3
   },
   "file_extension": ".py",
   "mimetype": "text/x-python",
   "name": "python",
   "nbconvert_exporter": "python",
   "pygments_lexer": "ipython3",
   "version": "3.6.5"
  }
 },
 "nbformat": 4,
 "nbformat_minor": 2
}
